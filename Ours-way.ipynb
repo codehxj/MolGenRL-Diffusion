{
 "cells": [
  {
   "cell_type": "code",
   "execution_count": null,
   "id": "b972ed8e-5e98-425a-844a-ec2d62986fc7",
   "metadata": {},
   "outputs": [],
   "source": [
    "# Training the molecular VAE module\n",
    "\n",
    "import train_vae\n",
    "exec(open('train_vae.py').read())"
   ]
  },
  {
   "cell_type": "code",
   "execution_count": null,
   "id": "946a771f-fa97-4e65-aeb4-4b3f7fa419aa",
   "metadata": {},
   "outputs": [],
   "source": [
    "#Training the latent diffusion model for molecule generation\n",
    "\n",
    "import train_diffusion\n",
    "exec(open('train_diffusion.py').read())"
   ]
  },
  {
   "cell_type": "code",
   "execution_count": null,
   "id": "123f4e4f-d25d-417c-8f8b-1b7f6b1f1152",
   "metadata": {},
   "outputs": [],
   "source": [
    "#Using the trained model for sampling random molecules\n",
    "\n",
    "import sample\n",
    "exec(open('sample.py').read())\n"
   ]
  },
  {
   "cell_type": "code",
   "execution_count": null,
   "id": "05f0b625-e5d4-4dc0-9124-c5f3cc0128de",
   "metadata": {},
   "outputs": [],
   "source": [
    "import optimize_affinity\n",
    "exec(open('optimize_affinity.py',encoding='utf-8').read())"
   ]
  },
  {
   "cell_type": "code",
   "execution_count": null,
   "id": "7bdb91e0-5a37-43b9-8ffc-492bb2462b89",
   "metadata": {},
   "outputs": [],
   "source": [
    "import optimize_simity\n",
    "exec(open('optimize_simity.py',encoding='utf-8').read())"
   ]
  }
 ],
 "metadata": {
  "kernelspec": {
   "display_name": "Python (pytorch)",
   "language": "python",
   "name": "your_env_name"
  },
  "language_info": {
   "codemirror_mode": {
    "name": "ipython",
    "version": 3
   },
   "file_extension": ".py",
   "mimetype": "text/x-python",
   "name": "python",
   "nbconvert_exporter": "python",
   "pygments_lexer": "ipython3",
   "version": "3.9.16"
  }
 },
 "nbformat": 4,
 "nbformat_minor": 5
}
